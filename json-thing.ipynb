{
 "cells": [
  {
   "cell_type": "code",
   "execution_count": 2,
   "id": "a464556c-7b05-441a-85fe-5fd40d52f821",
   "metadata": {},
   "outputs": [],
   "source": [
    "import json"
   ]
  },
  {
   "cell_type": "code",
   "execution_count": 16,
   "id": "9acf0bea-d7a5-40dc-aa9c-c26cd12ca675",
   "metadata": {},
   "outputs": [],
   "source": [
    "data = {\n",
    "        'name' : 'periodic_force',\n",
    "        'datatype' : 'float',\n",
    "        'algorithm' : 'rk4', \n",
    "        'omega' : 0.05,\n",
    "        'omega_0' : 0.75,\n",
    "        'f' : 1,\n",
    "        'friction' : 1.0,\n",
    "        'step' : 0.2,\n",
    "        'x0':5,\n",
    "        'y0':0}\n",
    "with open('config.json', 'w') as f:\n",
    "    json.dump(data, f, separators=(',', ':'), sort_keys=True, indent=4)"
   ]
  }
 ],
 "metadata": {
  "kernelspec": {
   "display_name": "Python 3",
   "language": "python",
   "name": "python3"
  },
  "language_info": {
   "codemirror_mode": {
    "name": "ipython",
    "version": 3
   },
   "file_extension": ".py",
   "mimetype": "text/x-python",
   "name": "python",
   "nbconvert_exporter": "python",
   "pygments_lexer": "ipython3",
   "version": "3.12.7"
  }
 },
 "nbformat": 4,
 "nbformat_minor": 5
}
