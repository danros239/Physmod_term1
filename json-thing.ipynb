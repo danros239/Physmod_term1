{
 "cells": [
  {
   "cell_type": "code",
   "execution_count": 2,
   "id": "a464556c-7b05-441a-85fe-5fd40d52f821",
   "metadata": {},
   "outputs": [],
   "source": [
    "import json"
   ]
  },
  {
   "cell_type": "code",
   "execution_count": 4,
   "id": "9acf0bea-d7a5-40dc-aa9c-c26cd12ca675",
   "metadata": {},
   "outputs": [],
   "source": [
    "data = {'datatype' : 'float',\n",
    "        'algorithm' : 'rk4', \n",
    "        'step' : 0.2,\n",
    "        'x0':1,\n",
    "        'y0':0}\n",
    "with open('config.json', 'w') as f:\n",
    "    json.dump(data, f, separators=(',', ':'), sort_keys=True, indent=4)"
   ]
  },
  {
   "cell_type": "code",
   "execution_count": null,
   "id": "aca048d2-87d1-4a3d-a9dc-740879507eca",
   "metadata": {},
   "outputs": [],
   "source": []
  }
 ],
 "metadata": {
  "kernelspec": {
   "display_name": "Python 3 (ipykernel)",
   "language": "python",
   "name": "python3"
  },
  "language_info": {
   "codemirror_mode": {
    "name": "ipython",
    "version": 3
   },
   "file_extension": ".py",
   "mimetype": "text/x-python",
   "name": "python",
   "nbconvert_exporter": "python",
   "pygments_lexer": "ipython3",
   "version": "3.12.7"
  }
 },
 "nbformat": 4,
 "nbformat_minor": 5
}
